{
 "cells": [
  {
   "cell_type": "code",
   "execution_count": 1,
   "id": "f001caf0-09b0-4792-819e-f50ce80aef52",
   "metadata": {},
   "outputs": [],
   "source": [
    "#!pip install pyspark"
   ]
  },
  {
   "cell_type": "code",
   "execution_count": 3,
   "id": "311495f4-c6b8-4d0f-a45f-6d29b84b1138",
   "metadata": {},
   "outputs": [],
   "source": [
    "import datetime\n",
    "import itertools\n",
    "import json\n",
    "import logging\n",
    "import math\n",
    "import time\n",
    "\n",
    "import io\n",
    "import numpy as np\n",
    "import pandas as pd\n",
    "from prophet import Prophet\n",
    "from prophet.serialize import model_to_json\n",
    "from pyspark.accumulators import AccumulatorParam\n",
    "from pyspark.sql import functions as F\n",
    "from pyspark.sql.functions import (col, collect_list, current_date, date_sub,\n",
    "                                   row_number, struct, to_timestamp)\n",
    "from pyspark.sql.types import DoubleType\n",
    "from pyspark.sql.window import Window"
   ]
  },
  {
   "cell_type": "code",
   "execution_count": 4,
   "id": "31166eb5-49d4-4c49-95b6-623dce07c3ef",
   "metadata": {},
   "outputs": [],
   "source": [
    "import os\n",
    "import sys\n",
    "\n",
    "os.environ['PYSPARK_PYTHON'] = sys.executable\n",
    "os.environ['PYSPARK_DRIVER_PYTHON'] = sys.executable"
   ]
  },
  {
   "cell_type": "code",
   "execution_count": 5,
   "id": "0ae8202c-2fbe-41d9-ae6e-6add0e5b74d1",
   "metadata": {},
   "outputs": [],
   "source": [
    "import pyspark\n",
    "from pyspark.sql import SparkSession\n",
    "from pyspark.sql.functions import (col, collect_list, current_date, date_sub,\n",
    "                                   row_number, struct, to_timestamp)\n",
    "from pyspark.sql import functions as F\n",
    "import os\n",
    "from datetime import timedelta\n",
    "from typing import Optional\n",
    "from pyspark.sql.types import (ArrayType, BooleanType, DoubleType, LongType,\n",
    "                               StringType, StructField, StructType)"
   ]
  },
  {
   "cell_type": "code",
   "execution_count": 6,
   "id": "9ee10cf1-fc06-4df7-b5e1-cc273e60afc7",
   "metadata": {},
   "outputs": [],
   "source": [
    "spark = SparkSession.builder \\\n",
    "      .master(\"local[1]\") \\\n",
    "      .appName(\"SparkByExamples.com\") \\\n",
    "      .getOrCreate()\n",
    "spark.conf.set(\"spark.sql.execution.arrow.pyspark.enabled\", \"true\")"
   ]
  },
  {
   "cell_type": "markdown",
   "id": "2c6775e5-d046-4d44-b724-8db48b3c85c3",
   "metadata": {},
   "source": [
    "### Pipeline"
   ]
  },
  {
   "cell_type": "code",
   "execution_count": 66,
   "id": "58a80a7e-7242-4c18-be0f-41614584bec7",
   "metadata": {},
   "outputs": [],
   "source": [
    "import pyspark.sql.functions as F\n",
    "from pyspark.sql.functions import avg as _avg, max as _max, min as _min\n",
    "from pyspark.sql.functions import to_timestamp, current_timestamp, current_date, to_date\n",
    "from pyspark.sql.functions import explode, col, floor, lit, lower, when"
   ]
  },
  {
   "cell_type": "code",
   "execution_count": 68,
   "id": "f861a735-2478-4031-836c-a3602edde938",
   "metadata": {},
   "outputs": [],
   "source": [
    "df = spark.read.option(\"multiline\", \"true\").option(\"recursiveFileLookup\", \"true\").json(\"powermeter.json\")"
   ]
  },
  {
   "cell_type": "code",
   "execution_count": 70,
   "id": "3144094f-750e-4648-b7e7-9ba91fb69f9e",
   "metadata": {},
   "outputs": [],
   "source": [
    "distinct_df = df.select(\"report_id\",\"device_id\").distinct()\n",
    "source_fields = df.columns\n",
    "optional_fields = [\"model\", \"location_state\", \"location_country\", \"processor_vendor\",\n",
    "                                    \"server_generation\", \"location_id\", \"location_name\",\n",
    "                                    \"location_city\", \"server_name\"]\n",
    "missing_option_fields = list(set(optional_fields)-set(source_fields))\n",
    "for field in missing_option_fields:\n",
    "                    df = df.withColumn(field, lit(None))"
   ]
  },
  {
   "cell_type": "code",
   "execution_count": 72,
   "id": "9f65f8b4-0d07-4e8b-b8fb-0aee8c4e8a8e",
   "metadata": {},
   "outputs": [
    {
     "data": {
      "text/plain": [
       "True"
      ]
     },
     "execution_count": 72,
     "metadata": {},
     "output_type": "execute_result"
    }
   ],
   "source": [
    "'inventory_data' in df.columns"
   ]
  },
  {
   "cell_type": "code",
   "execution_count": 74,
   "id": "5f072529-0797-48e4-8264-ce40e8d2e301",
   "metadata": {},
   "outputs": [],
   "source": [
    "df = df.select(\"report_id\",\"status\",\"report_type\",\"error_reason\",\"device_id\", \"application_customer_id\", \"platform_customer_id\", \"model\", \"location_state\",\n",
    "            \"location_country\", \"processor_vendor\", \"server_generation\", \"location_id\", \"location_name\",\n",
    "            \"location_city\", \"server_name\", col(\"data.Id\").alias(\"metric_id\"),\n",
    "            explode(\"data.PowerDetail\").alias(\"MetricValues\"), \n",
    "            F.to_json(F.col(\"inventory_data.cpu_inventory\")).alias(\"cpu_inventory\"), \n",
    "            F.to_json(F.col(\"inventory_data.memory_inventory\")).alias(\"memory_inventory\"),\n",
    "            col(\"inventory_data.PCIe_devices_count\").alias(\"pcie_devices_count\"),\n",
    "            col(\"inventory_data.socket_count\").alias(\"socket_count\"))"
   ]
  },
  {
   "cell_type": "code",
   "execution_count": 78,
   "id": "3653b048-5f80-4dbe-8ba8-53199bfdbe0f",
   "metadata": {},
   "outputs": [],
   "source": [
    "df = df.select(\"report_id\",\"status\",\"report_type\",\"error_reason\",\"device_id\", \"application_customer_id\", \"platform_customer_id\", \"model\", \"location_state\",\n",
    "            \"location_country\", \"processor_vendor\", \"server_generation\", \"location_id\", \"location_name\",\n",
    "            \"location_city\", \"server_name\", \"metric_id\", \"cpu_inventory\", \"memory_inventory\", \"pcie_devices_count\", \"socket_count\",\n",
    "            col(\"MetricValues.Average\").alias(\"MetricValue\"), \n",
    "            to_timestamp(col(\"MetricValues.Time\")).cast(\"long\").alias(\"MetricTimestamp\"))"
   ]
  },
  {
   "cell_type": "code",
   "execution_count": 82,
   "id": "2fad7a69-1852-40ec-b0af-435b598f7e79",
   "metadata": {},
   "outputs": [],
   "source": [
    "df = df.filter(df[\"MetricTimestamp\"].isNotNull())\n",
    "df = df.filter(df[\"MetricValue\"].isNotNull())\n",
    "df = df.select(\"report_id\",\"status\",\"report_type\",\"error_reason\",\"device_id\", \"application_customer_id\", \"platform_customer_id\", \"MetricValue\", \"model\",\n",
    "                            \"location_state\", \"location_country\", \"processor_vendor\", \"server_generation\", \"location_id\",\n",
    "                            \"location_name\", \"location_city\", \"server_name\", \"metric_id\", \"cpu_inventory\", \"memory_inventory\", \"pcie_devices_count\", \"socket_count\",\n",
    "                            col(\"device_id\").alias(\"deviceid\"),col(\"application_customer_id\").alias(\"acid\"),col(\"platform_customer_id\").alias(\"pcid\"),\n",
    "                            col(\"MetricValue\").alias(\"avg_metric_value\"),col(\"MetricValue\").alias(\"max_metric_value\"),col(\"MetricValue\").alias(\"min_metric_value\"),\n",
    "                            to_date(to_timestamp(col(\"MetricTimestamp\"))).alias(\"metric_time\"),\n",
    "                            to_timestamp(floor(col(\"MetricTimestamp\") / 3600) * 3600).alias(\"datetime\"),\n",
    "                            to_timestamp(floor(col(\"MetricTimestamp\") / 3600) * 3600 + 3600).alias(\"timeRangeEnd\")).withColumn(\"date\", current_date()).withColumn(\"Insertiontime\", current_timestamp())\n",
    "df_report_count = df.groupby(\"platform_customer_id\").count()\n",
    "df = df.dropDuplicates([\"application_customer_id\",\"device_id\",\"datetime\",\"timeRangeEnd\"])\n",
    "df_report_count = df.groupby(\"platform_customer_id\").count()"
   ]
  },
  {
   "cell_type": "code",
   "execution_count": 84,
   "id": "164dcbb9-4dfa-41bc-8fa9-8749f0841440",
   "metadata": {},
   "outputs": [
    {
     "data": {
      "text/plain": [
       "Row(report_id='', status=True, report_type='OPTED_IN', error_reason='', device_id='001587-E22+8899001587122689', application_customer_id='51df092eec6f11ee892e6a5d057cf06d', platform_customer_id='427275fcddef11ebaeaea25b204e9436', MetricValue=176, model='ProLiant DL385 Gen10 Plus AMD Analytics', location_state='Karnataka', location_country='India', processor_vendor='AMD EPYC 7262 8-Core Processor                 ', server_generation='GEN_10', location_id='cdf733b4-327a-475a-b99a-dc1f0284a2b8', location_name='Bangalore-test-5', location_city='Bangalore', server_name='8899001587122689', metric_id='slowpowermeter', cpu_inventory='[]', memory_inventory='[]', pcie_devices_count=0, socket_count=0, deviceid='001587-E22+8899001587122689', acid='51df092eec6f11ee892e6a5d057cf06d', pcid='427275fcddef11ebaeaea25b204e9436', avg_metric_value=176, max_metric_value=176, min_metric_value=176, metric_time=datetime.date(2025, 5, 9), datetime=datetime.datetime(2025, 5, 9, 8, 30), timeRangeEnd=datetime.datetime(2025, 5, 9, 9, 30), date=datetime.date(2025, 5, 9), Insertiontime=datetime.datetime(2025, 5, 9, 15, 46, 47, 398561))"
      ]
     },
     "execution_count": 84,
     "metadata": {},
     "output_type": "execute_result"
    }
   ],
   "source": [
    "df.head()"
   ]
  },
  {
   "cell_type": "markdown",
   "id": "8bcba001-724f-4f38-b168-90f432f701e7",
   "metadata": {
    "jp-MarkdownHeadingCollapsed": true
   },
   "source": [
    "### Forecast"
   ]
  },
  {
   "cell_type": "code",
   "execution_count": 436,
   "id": "4e773ff1-b943-4562-8633-05dce3f86b16",
   "metadata": {},
   "outputs": [],
   "source": [
    "df = spark.read.option(\"header\", \"true\").csv([\"csv_dir\\server0.csv\"])\\\n",
    ".filter((col(\"avg_metric_value\").isNotNull()) & (col(\"avg_metric_value\") > 0))"
   ]
  },
  {
   "cell_type": "code",
   "execution_count": 438,
   "id": "ab3498ee-98d5-4433-9dc7-6be8b651de47",
   "metadata": {},
   "outputs": [
    {
     "data": {
      "text/plain": [
       "DataFrame[Unnamed: 0: string, datetime: string, avg_metric_value: string, device_id: string, application_customer_id: string, platform_customer_id: string, metric_id: string, model: string, server_name: string, server_generation: string, processor_vendor: string, location_city: string, location_state: string, location_country: string, energy_cost_factor: string, co2_factor: string]"
      ]
     },
     "execution_count": 438,
     "metadata": {},
     "output_type": "execute_result"
    }
   ],
   "source": [
    "df.cache()"
   ]
  },
  {
   "cell_type": "code",
   "execution_count": 409,
   "id": "8321a5d7-483b-41c9-aa6f-3dc3aa76f13e",
   "metadata": {},
   "outputs": [
    {
     "data": {
      "text/plain": [
       "11214"
      ]
     },
     "execution_count": 409,
     "metadata": {},
     "output_type": "execute_result"
    }
   ],
   "source": [
    "df.count()"
   ]
  },
  {
   "cell_type": "code",
   "execution_count": 440,
   "id": "1246a365-75cd-49da-aba8-06e8c8c5f0d5",
   "metadata": {},
   "outputs": [
    {
     "data": {
      "text/plain": [
       "[Row(Unnamed: 0='6768', datetime='2024-12-05 00:00:00', avg_metric_value='161.2980769230769', device_id='177298-X97+8899177298959715', application_customer_id='aci1', platform_customer_id='pci1', metric_id='SlowPowerMeter', model='ProLiant DL360 Gen10', server_name='stt-hst-esxi09', server_generation='GEN_10', processor_vendor='Intel(R) Xeon(R) Silver 4116 CPU @ 2.50GHz', location_city='Fort Collins', location_state='Colorado', location_country='United States', energy_cost_factor='0.109', co2_factor='0.46184473'),\n",
       " Row(Unnamed: 0='6769', datetime='2024-12-05 01:00:00', avg_metric_value='161.01482371794873', device_id='177298-X97+8899177298959715', application_customer_id='aci1', platform_customer_id='pci1', metric_id='SlowPowerMeter', model='ProLiant DL360 Gen10', server_name='stt-hst-esxi09', server_generation='GEN_10', processor_vendor='Intel(R) Xeon(R) Silver 4116 CPU @ 2.50GHz', location_city='Fort Collins', location_state='Colorado', location_country='United States', energy_cost_factor='0.109', co2_factor='0.46184473'),\n",
       " Row(Unnamed: 0='6770', datetime='2024-12-05 02:00:00', avg_metric_value='160.7315705128205', device_id='177298-X97+8899177298959715', application_customer_id='aci1', platform_customer_id='pci1', metric_id='SlowPowerMeter', model='ProLiant DL360 Gen10', server_name='stt-hst-esxi09', server_generation='GEN_10', processor_vendor='Intel(R) Xeon(R) Silver 4116 CPU @ 2.50GHz', location_city='Fort Collins', location_state='Colorado', location_country='United States', energy_cost_factor='0.109', co2_factor='0.46184473'),\n",
       " Row(Unnamed: 0='6771', datetime='2024-12-05 03:00:00', avg_metric_value='160.44831730769232', device_id='177298-X97+8899177298959715', application_customer_id='aci1', platform_customer_id='pci1', metric_id='SlowPowerMeter', model='ProLiant DL360 Gen10', server_name='stt-hst-esxi09', server_generation='GEN_10', processor_vendor='Intel(R) Xeon(R) Silver 4116 CPU @ 2.50GHz', location_city='Fort Collins', location_state='Colorado', location_country='United States', energy_cost_factor='0.109', co2_factor='0.46184473'),\n",
       " Row(Unnamed: 0='6772', datetime='2024-12-05 04:00:00', avg_metric_value='160.1650641025641', device_id='177298-X97+8899177298959715', application_customer_id='aci1', platform_customer_id='pci1', metric_id='SlowPowerMeter', model='ProLiant DL360 Gen10', server_name='stt-hst-esxi09', server_generation='GEN_10', processor_vendor='Intel(R) Xeon(R) Silver 4116 CPU @ 2.50GHz', location_city='Fort Collins', location_state='Colorado', location_country='United States', energy_cost_factor='0.109', co2_factor='0.46184473')]"
      ]
     },
     "execution_count": 440,
     "metadata": {},
     "output_type": "execute_result"
    }
   ],
   "source": [
    "df.head(5)"
   ]
  },
  {
   "cell_type": "code",
   "execution_count": 442,
   "id": "3eb10fba-4b50-43cf-88f8-a1755e37a87f",
   "metadata": {},
   "outputs": [],
   "source": [
    "required_record_count = int(24 * 30 * 0.80)"
   ]
  },
  {
   "cell_type": "code",
   "execution_count": 444,
   "id": "f6194b96-fefd-4cef-b03f-8bf3f7efacee",
   "metadata": {},
   "outputs": [],
   "source": [
    "device_count_df = df.groupBy(\n",
    "    \"application_customer_id\", \"device_id\"\n",
    ").agg(F.count(\"*\").alias(\"device_count\"))"
   ]
  },
  {
   "cell_type": "code",
   "execution_count": 446,
   "id": "663c852d-15c8-47f9-9027-b1c77f0128c0",
   "metadata": {},
   "outputs": [],
   "source": [
    "filtered_device_ids = device_count_df.filter(\n",
    "    F.col(\"device_count\") >= required_record_count\n",
    ").select(\"application_customer_id\", \"device_id\")"
   ]
  },
  {
   "cell_type": "code",
   "execution_count": null,
   "id": "e02e6fc6-41cd-499b-a223-104a00bc843a",
   "metadata": {},
   "outputs": [],
   "source": []
  },
  {
   "cell_type": "code",
   "execution_count": 449,
   "id": "7cc9324b-aa94-49fe-9276-1e38113c05c9",
   "metadata": {},
   "outputs": [],
   "source": [
    "joined_df = df.join(\n",
    "    F.broadcast(filtered_device_ids),\n",
    "    on=[\"application_customer_id\", \"device_id\"],\n",
    ")"
   ]
  },
  {
   "cell_type": "code",
   "execution_count": 451,
   "id": "d62455d3-f227-46dd-b83d-9a019e2e0f58",
   "metadata": {},
   "outputs": [
    {
     "name": "stdout",
     "output_type": "stream",
     "text": [
      "== Physical Plan ==\n",
      "AdaptiveSparkPlan isFinalPlan=false\n",
      "+- Project [application_customer_id#10821, device_id#10820, Unnamed: 0#10817, datetime#10818, avg_metric_value#10819, platform_customer_id#10822, metric_id#10823, model#10824, server_name#10825, server_generation#10826, processor_vendor#10827, location_city#10828, location_state#10829, location_country#10830, energy_cost_factor#10831, co2_factor#10832]\n",
      "   +- BroadcastHashJoin [application_customer_id#10821, device_id#10820], [application_customer_id#11293, device_id#11292], Inner, BuildRight, false\n",
      "      :- Filter (isnotnull(application_customer_id#10821) AND isnotnull(device_id#10820))\n",
      "      :  +- InMemoryTableScan [Unnamed: 0#10817, datetime#10818, avg_metric_value#10819, device_id#10820, application_customer_id#10821, platform_customer_id#10822, metric_id#10823, model#10824, server_name#10825, server_generation#10826, processor_vendor#10827, location_city#10828, location_state#10829, location_country#10830, energy_cost_factor#10831, co2_factor#10832], [isnotnull(application_customer_id#10821), isnotnull(device_id#10820)]\n",
      "      :        +- InMemoryRelation [Unnamed: 0#10817, datetime#10818, avg_metric_value#10819, device_id#10820, application_customer_id#10821, platform_customer_id#10822, metric_id#10823, model#10824, server_name#10825, server_generation#10826, processor_vendor#10827, location_city#10828, location_state#10829, location_country#10830, energy_cost_factor#10831, co2_factor#10832], StorageLevel(disk, memory, deserialized, 1 replicas)\n",
      "      :              +- *(1) Filter (isnotnull(avg_metric_value#10819) AND (cast(avg_metric_value#10819 as int) > 0))\n",
      "      :                 +- FileScan csv [Unnamed: 0#10817,datetime#10818,avg_metric_value#10819,device_id#10820,application_customer_id#10821,platform_customer_id#10822,metric_id#10823,model#10824,server_name#10825,server_generation#10826,processor_vendor#10827,location_city#10828,location_state#10829,location_country#10830,energy_cost_factor#10831,co2_factor#10832] Batched: false, DataFilters: [isnotnull(avg_metric_value#10819), (cast(avg_metric_value#10819 as int) > 0)], Format: CSV, Location: InMemoryFileIndex(1 paths)[file:/C:/Users/dhimate/Documents/Denali/Analytics/Forecast/parquet/csv..., PartitionFilters: [], PushedFilters: [IsNotNull(avg_metric_value)], ReadSchema: struct<Unnamed: 0:string,datetime:string,avg_metric_value:string,device_id:string,application_cus...\n",
      "      +- BroadcastExchange HashedRelationBroadcastMode(List(input[0, string, true], input[1, string, true]),false), [plan_id=7353]\n",
      "         +- Project [application_customer_id#11293, device_id#11292]\n",
      "            +- Filter (device_count#11283L >= 576)\n",
      "               +- HashAggregate(keys=[application_customer_id#11293, device_id#11292], functions=[count(1)])\n",
      "                  +- Exchange hashpartitioning(application_customer_id#11293, device_id#11292, 200), ENSURE_REQUIREMENTS, [plan_id=7348]\n",
      "                     +- HashAggregate(keys=[application_customer_id#11293, device_id#11292], functions=[partial_count(1)])\n",
      "                        +- Filter (isnotnull(application_customer_id#11293) AND isnotnull(device_id#11292))\n",
      "                           +- InMemoryTableScan [device_id#11292, application_customer_id#11293], [isnotnull(application_customer_id#11293), isnotnull(device_id#11292)]\n",
      "                                 +- InMemoryRelation [Unnamed: 0#11289, datetime#11290, avg_metric_value#11291, device_id#11292, application_customer_id#11293, platform_customer_id#11294, metric_id#11295, model#11296, server_name#11297, server_generation#11298, processor_vendor#11299, location_city#11300, location_state#11301, location_country#11302, energy_cost_factor#11303, co2_factor#11304], StorageLevel(disk, memory, deserialized, 1 replicas)\n",
      "                                       +- *(1) Filter (isnotnull(avg_metric_value#10819) AND (cast(avg_metric_value#10819 as int) > 0))\n",
      "                                          +- FileScan csv [Unnamed: 0#10817,datetime#10818,avg_metric_value#10819,device_id#10820,application_customer_id#10821,platform_customer_id#10822,metric_id#10823,model#10824,server_name#10825,server_generation#10826,processor_vendor#10827,location_city#10828,location_state#10829,location_country#10830,energy_cost_factor#10831,co2_factor#10832] Batched: false, DataFilters: [isnotnull(avg_metric_value#10819), (cast(avg_metric_value#10819 as int) > 0)], Format: CSV, Location: InMemoryFileIndex(1 paths)[file:/C:/Users/dhimate/Documents/Denali/Analytics/Forecast/parquet/csv..., PartitionFilters: [], PushedFilters: [IsNotNull(avg_metric_value)], ReadSchema: struct<Unnamed: 0:string,datetime:string,avg_metric_value:string,device_id:string,application_cus...\n",
      "\n",
      "\n"
     ]
    }
   ],
   "source": [
    "joined_df.explain()"
   ]
  },
  {
   "cell_type": "code",
   "execution_count": 453,
   "id": "3bcff3e5-6906-4bc7-acb1-6237bcc1691e",
   "metadata": {},
   "outputs": [
    {
     "name": "stdout",
     "output_type": "stream",
     "text": [
      "+-----------------------+---------------------------+----------+-------------------+------------------+--------------------+--------------+--------------------+--------------+-----------------+------------------------------------------+-------------+--------------+----------------+------------------+----------+\n",
      "|application_customer_id|device_id                  |Unnamed: 0|datetime           |avg_metric_value  |platform_customer_id|metric_id     |model               |server_name   |server_generation|processor_vendor                          |location_city|location_state|location_country|energy_cost_factor|co2_factor|\n",
      "+-----------------------+---------------------------+----------+-------------------+------------------+--------------------+--------------+--------------------+--------------+-----------------+------------------------------------------+-------------+--------------+----------------+------------------+----------+\n",
      "|aci1                   |177298-X97+8899177298959715|6768      |2024-12-05 00:00:00|161.2980769230769 |pci1                |SlowPowerMeter|ProLiant DL360 Gen10|stt-hst-esxi09|GEN_10           |Intel(R) Xeon(R) Silver 4116 CPU @ 2.50GHz|Fort Collins |Colorado      |United States   |0.109             |0.46184473|\n",
      "|aci1                   |177298-X97+8899177298959715|6769      |2024-12-05 01:00:00|161.01482371794873|pci1                |SlowPowerMeter|ProLiant DL360 Gen10|stt-hst-esxi09|GEN_10           |Intel(R) Xeon(R) Silver 4116 CPU @ 2.50GHz|Fort Collins |Colorado      |United States   |0.109             |0.46184473|\n",
      "|aci1                   |177298-X97+8899177298959715|6770      |2024-12-05 02:00:00|160.7315705128205 |pci1                |SlowPowerMeter|ProLiant DL360 Gen10|stt-hst-esxi09|GEN_10           |Intel(R) Xeon(R) Silver 4116 CPU @ 2.50GHz|Fort Collins |Colorado      |United States   |0.109             |0.46184473|\n",
      "|aci1                   |177298-X97+8899177298959715|6771      |2024-12-05 03:00:00|160.44831730769232|pci1                |SlowPowerMeter|ProLiant DL360 Gen10|stt-hst-esxi09|GEN_10           |Intel(R) Xeon(R) Silver 4116 CPU @ 2.50GHz|Fort Collins |Colorado      |United States   |0.109             |0.46184473|\n",
      "|aci1                   |177298-X97+8899177298959715|6772      |2024-12-05 04:00:00|160.1650641025641 |pci1                |SlowPowerMeter|ProLiant DL360 Gen10|stt-hst-esxi09|GEN_10           |Intel(R) Xeon(R) Silver 4116 CPU @ 2.50GHz|Fort Collins |Colorado      |United States   |0.109             |0.46184473|\n",
      "+-----------------------+---------------------------+----------+-------------------+------------------+--------------------+--------------+--------------------+--------------+-----------------+------------------------------------------+-------------+--------------+----------------+------------------+----------+\n",
      "only showing top 5 rows\n",
      "\n"
     ]
    }
   ],
   "source": [
    "joined_df.show(5, False)"
   ]
  },
  {
   "cell_type": "code",
   "execution_count": 455,
   "id": "aaf7bc42-6ec2-4d98-994e-657b65a2b045",
   "metadata": {},
   "outputs": [
    {
     "data": {
      "text/plain": [
       "False"
      ]
     },
     "execution_count": 455,
     "metadata": {},
     "output_type": "execute_result"
    }
   ],
   "source": [
    "joined_df.rdd.isEmpty()"
   ]
  },
  {
   "cell_type": "code",
   "execution_count": 457,
   "id": "c81b7117-8ff8-420a-b053-1b3ea7887b02",
   "metadata": {},
   "outputs": [],
   "source": [
    "num_device_id = joined_df.agg(F.countDistinct(\"device_id\")).first()[0]"
   ]
  },
  {
   "cell_type": "code",
   "execution_count": 459,
   "id": "dd9679dc-fe37-433d-bf90-075598c13650",
   "metadata": {},
   "outputs": [],
   "source": [
    "df_analytics = joined_df.withColumn(\n",
    "    \"y\", df[\"avg_metric_value\"].cast(DoubleType())\n",
    ").drop(\"avg_metric_value\")"
   ]
  },
  {
   "cell_type": "code",
   "execution_count": 461,
   "id": "764591ee-cc96-4d67-b5c0-775f3576f73a",
   "metadata": {},
   "outputs": [],
   "source": [
    "df_analytics = df_analytics.withColumnRenamed(\"datetime\", \"ds\").dropna(\n",
    "    subset=[\"ds\", \"y\"]\n",
    ")"
   ]
  },
  {
   "cell_type": "code",
   "execution_count": 463,
   "id": "3c661ea7-8078-4e52-b62e-db586bee6d9b",
   "metadata": {},
   "outputs": [],
   "source": [
    "num_partitions = max(1, num_device_id // 2)"
   ]
  },
  {
   "cell_type": "code",
   "execution_count": 465,
   "id": "3e1b0dad-1266-4a33-bcb5-29c848c8d3a1",
   "metadata": {},
   "outputs": [],
   "source": [
    "df_analytics = df_analytics.repartition(num_partitions, \"device_id\")"
   ]
  },
  {
   "cell_type": "code",
   "execution_count": null,
   "id": "7ddd0b2e-1b68-4746-93c4-b9dcd8736ae6",
   "metadata": {},
   "outputs": [],
   "source": []
  },
  {
   "cell_type": "code",
   "execution_count": 468,
   "id": "cac3cd6a-0ea3-46b3-b87f-701fdddbf784",
   "metadata": {},
   "outputs": [
    {
     "data": {
      "text/plain": [
       "DataFrame[application_customer_id: string, device_id: string, Unnamed: 0: string, ds: string, platform_customer_id: string, metric_id: string, model: string, server_name: string, server_generation: string, processor_vendor: string, location_city: string, location_state: string, location_country: string, energy_cost_factor: string, co2_factor: string, y: double]"
      ]
     },
     "execution_count": 468,
     "metadata": {},
     "output_type": "execute_result"
    }
   ],
   "source": [
    "df_analytics.cache()"
   ]
  },
  {
   "cell_type": "code",
   "execution_count": 470,
   "id": "e72d617b-3d91-48dc-92c9-fc0e41f91ea0",
   "metadata": {},
   "outputs": [
    {
     "name": "stdout",
     "output_type": "stream",
     "text": [
      "+-----------------------+--------------------+----------+-------------------+--------------------+--------------+--------------------+--------------+-----------------+--------------------+-------------+--------------+----------------+------------------+----------+------------------+\n",
      "|application_customer_id|           device_id|Unnamed: 0|                 ds|platform_customer_id|     metric_id|               model|   server_name|server_generation|    processor_vendor|location_city|location_state|location_country|energy_cost_factor|co2_factor|                 y|\n",
      "+-----------------------+--------------------+----------+-------------------+--------------------+--------------+--------------------+--------------+-----------------+--------------------+-------------+--------------+----------------+------------------+----------+------------------+\n",
      "|                   aci1|177298-X97+889917...|      6768|2024-12-05 00:00:00|                pci1|SlowPowerMeter|ProLiant DL360 Gen10|stt-hst-esxi09|           GEN_10|Intel(R) Xeon(R) ...| Fort Collins|      Colorado|   United States|             0.109|0.46184473| 161.2980769230769|\n",
      "|                   aci1|177298-X97+889917...|      6769|2024-12-05 01:00:00|                pci1|SlowPowerMeter|ProLiant DL360 Gen10|stt-hst-esxi09|           GEN_10|Intel(R) Xeon(R) ...| Fort Collins|      Colorado|   United States|             0.109|0.46184473|161.01482371794873|\n",
      "|                   aci1|177298-X97+889917...|      6770|2024-12-05 02:00:00|                pci1|SlowPowerMeter|ProLiant DL360 Gen10|stt-hst-esxi09|           GEN_10|Intel(R) Xeon(R) ...| Fort Collins|      Colorado|   United States|             0.109|0.46184473| 160.7315705128205|\n",
      "|                   aci1|177298-X97+889917...|      6771|2024-12-05 03:00:00|                pci1|SlowPowerMeter|ProLiant DL360 Gen10|stt-hst-esxi09|           GEN_10|Intel(R) Xeon(R) ...| Fort Collins|      Colorado|   United States|             0.109|0.46184473|160.44831730769232|\n",
      "|                   aci1|177298-X97+889917...|      6772|2024-12-05 04:00:00|                pci1|SlowPowerMeter|ProLiant DL360 Gen10|stt-hst-esxi09|           GEN_10|Intel(R) Xeon(R) ...| Fort Collins|      Colorado|   United States|             0.109|0.46184473| 160.1650641025641|\n",
      "+-----------------------+--------------------+----------+-------------------+--------------------+--------------+--------------------+--------------+-----------------+--------------------+-------------+--------------+----------------+------------------+----------+------------------+\n",
      "only showing top 5 rows\n",
      "\n"
     ]
    }
   ],
   "source": [
    "df_analytics.show(5)"
   ]
  },
  {
   "cell_type": "code",
   "execution_count": 472,
   "id": "2f563d32-3f57-4b5a-91ea-11fc3a3e605d",
   "metadata": {},
   "outputs": [
    {
     "data": {
      "text/plain": [
       "DataFrame[Unnamed: 0: string, datetime: string, avg_metric_value: string, device_id: string, application_customer_id: string, platform_customer_id: string, metric_id: string, model: string, server_name: string, server_generation: string, processor_vendor: string, location_city: string, location_state: string, location_country: string, energy_cost_factor: string, co2_factor: string]"
      ]
     },
     "execution_count": 472,
     "metadata": {},
     "output_type": "execute_result"
    }
   ],
   "source": [
    "df.unpersist(blocking=True)"
   ]
  },
  {
   "cell_type": "code",
   "execution_count": 474,
   "id": "04f1484d-599e-4003-b0ce-5de39e664ec9",
   "metadata": {},
   "outputs": [],
   "source": [
    "timestamp_format = \"%Y-%m-%d %H:%M:%S\""
   ]
  },
  {
   "cell_type": "code",
   "execution_count": 476,
   "id": "e61b0657-1383-4aca-b9c7-390e0b83baba",
   "metadata": {},
   "outputs": [],
   "source": [
    "df = df_analytics.withColumn(\n",
    "    \"timestamp\",\n",
    "    to_timestamp(col(\"ds\").cast(\"timestamp\"), timestamp_format),\n",
    ")"
   ]
  },
  {
   "cell_type": "code",
   "execution_count": 478,
   "id": "b13a444f-cb0d-4923-8bd7-32d5106c8056",
   "metadata": {},
   "outputs": [],
   "source": [
    "window_spec = Window.partitionBy(\"device_id\", \"application_customer_id\").orderBy(\n",
    "    col(\"timestamp\").desc()\n",
    ")"
   ]
  },
  {
   "cell_type": "code",
   "execution_count": 480,
   "id": "a1fa714f-705f-4b9b-98e8-310c6add8ee3",
   "metadata": {},
   "outputs": [],
   "source": [
    "df_with_rownum = df.withColumn(\n",
    "    \"row_num\", row_number().over(window_spec)\n",
    ")"
   ]
  },
  {
   "cell_type": "code",
   "execution_count": 482,
   "id": "b1419679-39c6-4231-8f4f-254db2b44560",
   "metadata": {},
   "outputs": [],
   "source": [
    "server_attributes_df = df_with_rownum.filter(col(\"row_num\") == 1).drop(\n",
    "    \"row_num\"\n",
    ")"
   ]
  },
  {
   "cell_type": "code",
   "execution_count": 484,
   "id": "64afd994-8a15-43ae-a1ab-d09ec321c32e",
   "metadata": {},
   "outputs": [],
   "source": [
    "server_attributes_dict = {}\n",
    "count = server_attributes_df.count()"
   ]
  },
  {
   "cell_type": "code",
   "execution_count": 486,
   "id": "84570bb6-306e-421d-94d6-4080cb09d355",
   "metadata": {},
   "outputs": [
    {
     "name": "stdout",
     "output_type": "stream",
     "text": [
      "+-----------------------+---------------------------+----------+-------------------+--------------------+--------------+--------------------+--------------+-----------------+------------------------------------------+-------------+--------------+----------------+------------------+----------+------------------+-------------------+\n",
      "|application_customer_id|device_id                  |Unnamed: 0|ds                 |platform_customer_id|metric_id     |model               |server_name   |server_generation|processor_vendor                          |location_city|location_state|location_country|energy_cost_factor|co2_factor|y                 |timestamp          |\n",
      "+-----------------------+---------------------------+----------+-------------------+--------------------+--------------+--------------------+--------------+-----------------+------------------------------------------+-------------+--------------+----------------+------------------+----------+------------------+-------------------+\n",
      "|aci1                   |177298-X97+8899177298959715|8966      |2025-03-06 14:00:00|pci1                |SlowPowerMeter|ProLiant DL360 Gen10|stt-hst-esxi09|GEN_10           |Intel(R) Xeon(R) Silver 4116 CPU @ 2.50GHz|Fort Collins |Colorado      |United States   |0.109             |0.46184473|270.54545454545456|2025-03-06 14:00:00|\n",
      "+-----------------------+---------------------------+----------+-------------------+--------------------+--------------+--------------------+--------------+-----------------+------------------------------------------+-------------+--------------+----------------+------------------+----------+------------------+-------------------+\n",
      "\n"
     ]
    }
   ],
   "source": [
    "server_attributes_df.show(5, truncate=False)"
   ]
  },
  {
   "cell_type": "code",
   "execution_count": 488,
   "id": "393fac9c-c859-4c07-868c-e4a81e8d821a",
   "metadata": {},
   "outputs": [],
   "source": [
    "server_attributes_dict = {\n",
    "    f\"{row['device_id']}_{row['application_customer_id']}\": {\n",
    "        \"model\": row[\"model\"] if \"model\" in row else None,\n",
    "        \"server_name\": row[\"server_name\"] if \"server_name\" in row else None,\n",
    "        \"server_generation\": row[\"server_generation\"] if \"server_generation\" in row else None,\n",
    "        \"processor_vendor\": row[\"processor_vendor\"] if \"processor_vendor\" in row else None,\n",
    "        \"location_display_name\": f\"{row['location_city'] if 'location_city' in row else ''}, \"\n",
    "                                f\"{row['location_state'] if 'location_state' in row else ''}, \"\n",
    "                                f\"{row['location_country'] if 'location_country' in row else ''}\".strip(', '),\n",
    "        \"energy_cost_factor\": row[\"energy_cost_factor\"] if \"energy_cost_factor\" in row else None,\n",
    "        \"co2_factor\": row[\"co2_factor\"] if \"co2_factor\" in row else None,\n",
    "    }\n",
    "    for row in server_attributes_df.collect()}"
   ]
  },
  {
   "cell_type": "code",
   "execution_count": 490,
   "id": "74bab9e5-d25a-4507-8fa4-85957e5d5391",
   "metadata": {},
   "outputs": [],
   "source": [
    "df = df.groupBy(\n",
    "    \"device_id\",\n",
    "    \"platform_customer_id\",\n",
    "    \"application_customer_id\",\n",
    ")"
   ]
  },
  {
   "cell_type": "code",
   "execution_count": 492,
   "id": "fa46262c-4a84-41af-8b2c-3fffdbb079e8",
   "metadata": {},
   "outputs": [],
   "source": [
    "df = df.agg(collect_list(struct(\"ds\", \"y\")).alias(\"data\"))"
   ]
  },
  {
   "cell_type": "code",
   "execution_count": 494,
   "id": "1fb41200-3c1f-4f34-ab8c-007a03d7a556",
   "metadata": {},
   "outputs": [
    {
     "name": "stdout",
     "output_type": "stream",
     "text": [
      "+--------------------+--------------------+-----------------------+--------------------+\n",
      "|           device_id|platform_customer_id|application_customer_id|                data|\n",
      "+--------------------+--------------------+-----------------------+--------------------+\n",
      "|177298-X97+889917...|                pci1|                   aci1|[{2024-12-05 00:0...|\n",
      "+--------------------+--------------------+-----------------------+--------------------+\n",
      "\n"
     ]
    }
   ],
   "source": [
    "df.show(5)"
   ]
  },
  {
   "cell_type": "code",
   "execution_count": 496,
   "id": "c0cc5ed2-da0d-4de0-87a2-cdd7e9801710",
   "metadata": {},
   "outputs": [],
   "source": [
    "def cached(df_analytics):\n",
    "    return df_analytics"
   ]
  },
  {
   "cell_type": "code",
   "execution_count": 498,
   "id": "96f15093-af4e-4281-8733-430f5e63ce92",
   "metadata": {},
   "outputs": [],
   "source": [
    "new_df = cached(df_analytics)"
   ]
  },
  {
   "cell_type": "code",
   "execution_count": 500,
   "id": "285694d1-3d5b-4d72-b490-30de18f4a92b",
   "metadata": {},
   "outputs": [
    {
     "data": {
      "text/plain": [
       "DataFrame[application_customer_id: string, device_id: string, Unnamed: 0: string, ds: string, platform_customer_id: string, metric_id: string, model: string, server_name: string, server_generation: string, processor_vendor: string, location_city: string, location_state: string, location_country: string, energy_cost_factor: string, co2_factor: string, y: double]"
      ]
     },
     "execution_count": 500,
     "metadata": {},
     "output_type": "execute_result"
    }
   ],
   "source": [
    "new_df.unpersist(blocking=True)"
   ]
  },
  {
   "cell_type": "code",
   "execution_count": 502,
   "id": "c57b968c-0aba-4005-971a-603fda5888ca",
   "metadata": {},
   "outputs": [],
   "source": [
    "def transform_data(row):\n",
    "    data = row[\"data\"]\n",
    "    device_id = row[\"device_id\"]\n",
    "    application_customer_id = row[\"application_customer_id\"]\n",
    "    platform_customer_id = row[\"platform_customer_id\"]\n",
    "\n",
    "    # Transform [pyspark.sql.Dataframe.Row] -> [dict]\n",
    "    data_dicts = []\n",
    "    for d in data:\n",
    "        data_dicts.append(d.asDict())\n",
    "\n",
    "    # Convert into pandas dataframe for fbprophet\n",
    "    data = pd.DataFrame(data_dicts)\n",
    "    data[\"ds\"] = pd.to_datetime(data[\"ds\"])\n",
    "    data = data[data['y'] > 0]\n",
    "\n",
    "    resampled_data = pd.DataFrame()\n",
    "    if not data.empty:\n",
    "        # Define the resample frequency\n",
    "        resample_frequency = \"4H\"\n",
    "\n",
    "        # Resample data using the defined frequency (aggregating using average)\n",
    "        resampled_data = data.resample(resample_frequency, on=\"ds\").mean().reset_index()\n",
    "\n",
    "    return {\n",
    "        \"device_id\": device_id,\n",
    "        \"platform_customer_id\": platform_customer_id,\n",
    "        \"application_customer_id\": application_customer_id,\n",
    "        \"data\": resampled_data,\n",
    "    }"
   ]
  },
  {
   "cell_type": "code",
   "execution_count": 504,
   "id": "f4ab2458-7241-4e29-9df8-0c1d95605a7f",
   "metadata": {},
   "outputs": [],
   "source": [
    "def expand_predictions(d, server_attributes_dict):\n",
    "\n",
    "    result = []\n",
    "\n",
    "    device_id, platform_customer_id, application_customer_id, data = d\n",
    "\n",
    "    result.append(\n",
    "        (\n",
    "            device_id,\n",
    "            application_customer_id,\n",
    "            platform_customer_id,\n",
    "        )\n",
    "    )\n",
    "    return result"
   ]
  },
  {
   "cell_type": "code",
   "execution_count": 506,
   "id": "1310f0c6-7a7a-47d7-89b2-d52c16981a7a",
   "metadata": {},
   "outputs": [],
   "source": [
    "power_forecast_schema = StructType([\n",
    "        StructField(\"device_id\", StringType(), True),\n",
    "        StructField(\"application_customer_id\", StringType(), True),\n",
    "        StructField(\"platform_customer_id\", StringType(), True)])"
   ]
  },
  {
   "cell_type": "code",
   "execution_count": 508,
   "id": "17fe9cfd-168c-4302-adf7-32a7d636e7aa",
   "metadata": {},
   "outputs": [],
   "source": [
    "result_df = df.rdd.map(lambda r: transform_data(r)).flatMap(lambda d: expand_predictions(d, server_attributes_dict))"
   ]
  },
  {
   "cell_type": "code",
   "execution_count": 510,
   "id": "dc6459d7-8e69-4ec5-8c88-f6c3266fc0eb",
   "metadata": {},
   "outputs": [],
   "source": [
    "result_df = spark.createDataFrame(result_df, power_forecast_schema)"
   ]
  },
  {
   "cell_type": "code",
   "execution_count": 512,
   "id": "79f0c084-8e14-4b6a-968c-0e98798e9838",
   "metadata": {},
   "outputs": [
    {
     "data": {
      "text/plain": [
       "DataFrame[device_id: string, application_customer_id: string, platform_customer_id: string]"
      ]
     },
     "execution_count": 512,
     "metadata": {},
     "output_type": "execute_result"
    }
   ],
   "source": [
    "result_df.cache()"
   ]
  },
  {
   "cell_type": "code",
   "execution_count": 514,
   "id": "df581b88-973f-4159-9eee-1f8b756cf186",
   "metadata": {},
   "outputs": [
    {
     "data": {
      "text/plain": [
       "1"
      ]
     },
     "execution_count": 514,
     "metadata": {},
     "output_type": "execute_result"
    }
   ],
   "source": [
    "result_df.count()"
   ]
  },
  {
   "cell_type": "code",
   "execution_count": 516,
   "id": "7de0590a-1e9d-4a37-a377-a8d423317f79",
   "metadata": {},
   "outputs": [],
   "source": [
    "spark.stop()"
   ]
  },
  {
   "cell_type": "code",
   "execution_count": 207,
   "id": "7de912eb-4dbe-4902-9f2b-94b8003ddb80",
   "metadata": {},
   "outputs": [],
   "source": []
  },
  {
   "cell_type": "code",
   "execution_count": 209,
   "id": "20efa068-d4e8-4f44-ad5b-a109b4f137d5",
   "metadata": {},
   "outputs": [
    {
     "data": {
      "text/plain": [
       "11214"
      ]
     },
     "execution_count": 209,
     "metadata": {},
     "output_type": "execute_result"
    }
   ],
   "source": []
  },
  {
   "cell_type": "code",
   "execution_count": null,
   "id": "4a574b21-72a3-47e8-8be7-8d877c29d04f",
   "metadata": {},
   "outputs": [],
   "source": []
  }
 ],
 "metadata": {
  "kernelspec": {
   "display_name": "Python 3 (ipykernel)",
   "language": "python",
   "name": "python3"
  },
  "language_info": {
   "codemirror_mode": {
    "name": "ipython",
    "version": 3
   },
   "file_extension": ".py",
   "mimetype": "text/x-python",
   "name": "python",
   "nbconvert_exporter": "python",
   "pygments_lexer": "ipython3",
   "version": "3.9.19"
  }
 },
 "nbformat": 4,
 "nbformat_minor": 5
}
